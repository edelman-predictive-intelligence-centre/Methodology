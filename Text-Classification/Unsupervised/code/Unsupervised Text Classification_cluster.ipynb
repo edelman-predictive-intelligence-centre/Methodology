{
 "cells": [
  {
   "cell_type": "code",
   "execution_count": 1,
   "metadata": {},
   "outputs": [],
   "source": [
    "import pandas as pd\n",
    "\n",
    "ds_text = pd.read_csv(\"news-articles-united-airline_social-animal_201601-201905.txt\",sep='|')"
   ]
  },
  {
   "cell_type": "markdown",
   "metadata": {},
   "source": [
    "# Data Processing"
   ]
  },
  {
   "cell_type": "code",
   "execution_count": 2,
   "metadata": {},
   "outputs": [],
   "source": [
    "import nltk\n",
    "import nltk.corpus\n",
    "import ast\n",
    "import numpy as np\n",
    "\n",
    "import re\n",
    "import string\n",
    "PUNCT_TO_REMOVE = string.punctuation\n",
    "\n",
    "from nltk import word_tokenize\n",
    "from nltk.corpus import stopwords\n",
    "STOPWORDS = set(stopwords.words(\"english\"))\n",
    "\n",
    "from nltk.stem import WordNetLemmatizer, SnowballStemmer\n",
    "stemmer = SnowballStemmer('english')\n",
    "\n",
    "def text_processing(text):\n",
    "    text = text.lower()\n",
    "    text = re.compile(r'https?://\\S+|www\\.\\S+').sub(r'', text)\n",
    "    text = text.translate(str.maketrans('', '', PUNCT_TO_REMOVE))\n",
    "    text = \" \".join([word for word in str(text).split() if word not in STOPWORDS])\n",
    "    text = \" \".join([stemmer.stem(WordNetLemmatizer().lemmatize(word, pos='v')) for word in str(text).split()])\n",
    "    return text"
   ]
  },
  {
   "cell_type": "code",
   "execution_count": 3,
   "metadata": {
    "collapsed": true
   },
   "outputs": [
    {
     "name": "stderr",
     "output_type": "stream",
     "text": [
      "<ipython-input-3-e77662b3add5>:2: SettingWithCopyWarning: \n",
      "A value is trying to be set on a copy of a slice from a DataFrame.\n",
      "Try using .loc[row_indexer,col_indexer] = value instead\n",
      "\n",
      "See the caveats in the documentation: https://pandas.pydata.org/pandas-docs/stable/user_guide/indexing.html#returning-a-view-versus-a-copy\n",
      "  ds_cluster['domain'] = ds_cluster['domain'].astype('category').cat.codes\n",
      "<ipython-input-3-e77662b3add5>:3: SettingWithCopyWarning: \n",
      "A value is trying to be set on a copy of a slice from a DataFrame.\n",
      "Try using .loc[row_indexer,col_indexer] = value instead\n",
      "\n",
      "See the caveats in the documentation: https://pandas.pydata.org/pandas-docs/stable/user_guide/indexing.html#returning-a-view-versus-a-copy\n",
      "  ds_cluster['title'] = ds_cluster['title'].apply(lambda x: text_processing(x))\n",
      "<ipython-input-3-e77662b3add5>:4: SettingWithCopyWarning: \n",
      "A value is trying to be set on a copy of a slice from a DataFrame.\n",
      "Try using .loc[row_indexer,col_indexer] = value instead\n",
      "\n",
      "See the caveats in the documentation: https://pandas.pydata.org/pandas-docs/stable/user_guide/indexing.html#returning-a-view-versus-a-copy\n",
      "  ds_cluster['deep_keywords'] = ds_cluster['deep_keywords'].fillna('[]')\n",
      "<ipython-input-3-e77662b3add5>:5: SettingWithCopyWarning: \n",
      "A value is trying to be set on a copy of a slice from a DataFrame.\n",
      "Try using .loc[row_indexer,col_indexer] = value instead\n",
      "\n",
      "See the caveats in the documentation: https://pandas.pydata.org/pandas-docs/stable/user_guide/indexing.html#returning-a-view-versus-a-copy\n",
      "  ds_cluster['deep_keywords'] = ds_cluster['deep_keywords'].apply(lambda x: ' '.join(ast.literal_eval(x)))\n"
     ]
    }
   ],
   "source": [
    "ds_cluster = ds_text[['content_word_count','deep_keywords','domain','sentiment','title']]\n",
    "ds_cluster['domain'] = ds_cluster['domain'].astype('category').cat.codes\n",
    "ds_cluster['title'] = ds_cluster['title'].apply(lambda x: text_processing(x))\n",
    "ds_cluster['deep_keywords'] = ds_cluster['deep_keywords'].fillna('[]')\n",
    "ds_cluster['deep_keywords'] = ds_cluster['deep_keywords'].apply(lambda x: ' '.join(ast.literal_eval(x)))"
   ]
  },
  {
   "cell_type": "markdown",
   "metadata": {},
   "source": [
    "# TfIdf Vector & Compose training data"
   ]
  },
  {
   "cell_type": "code",
   "execution_count": 4,
   "metadata": {},
   "outputs": [],
   "source": [
    "from sklearn.feature_extraction.text import TfidfVectorizer\n",
    "\n",
    "vectorizer_title = TfidfVectorizer(max_features=3000)\n",
    "X_title = vectorizer_title.fit_transform(ds_cluster['title']).toarray()\n",
    "vectorizer_keywords = TfidfVectorizer(max_features=3000)\n",
    "X_keywords = vectorizer_keywords.fit_transform(ds_cluster['deep_keywords']).toarray()\n",
    "\n",
    "X_cluster = np.hstack((X_title,X_keywords))\n",
    "df_train = pd.DataFrame(X_cluster).fillna(0)"
   ]
  },
  {
   "cell_type": "code",
   "execution_count": 5,
   "metadata": {},
   "outputs": [],
   "source": [
    "terms_title = vectorizer_title.get_feature_names()\n",
    "terms_keywords = vectorizer_keywords.get_feature_names()"
   ]
  },
  {
   "cell_type": "markdown",
   "metadata": {},
   "source": [
    "# Choose appropriate cluster numbers"
   ]
  },
  {
   "cell_type": "code",
   "execution_count": 7,
   "metadata": {},
   "outputs": [],
   "source": [
    "'''\n",
    "    Use keywords and title tfidf as training data. Choose the best cluster number using sse value and cluster training data\n",
    "    with the best cluster number. Get title and keywords of each cluster.\n",
    "'''\n",
    "from sklearn.cluster import KMeans\n",
    "\n",
    "kmeans_kwargs = {\n",
    "    \"init\": \"k-means++\",\n",
    "    \"n_init\": 10,\n",
    "    \"max_iter\": 200,\n",
    "    \"random_state\": 42,\n",
    "}\n",
    "\n",
    "# A list holds the SSE values for each k\n",
    "sse = []\n",
    "for k in range(1, 21):\n",
    "    kmeans = KMeans(n_clusters=k, **kmeans_kwargs)\n",
    "    kmeans.fit(df_train)\n",
    "    sse.append(kmeans.inertia_)"
   ]
  },
  {
   "cell_type": "code",
   "execution_count": 8,
   "metadata": {},
   "outputs": [
    {
     "data": {
      "image/png": "[encoded data removed]",
      "text/plain": [
       "<Figure size 432x288 with 1 Axes>"
      ]
     },
     "metadata": {},
     "output_type": "display_data"
    }
   ],
   "source": [
    "import matplotlib.pyplot as plt\n",
    "\n",
    "plt.style.use(\"fivethirtyeight\")\n",
    "plt.plot(range(1, 21), sse)\n",
    "plt.xticks(range(1, 21))\n",
    "plt.xlabel(\"Number of Clusters\")\n",
    "plt.ylabel(\"SSE\")\n",
    "plt.show()"
   ]
  },
  {
   "cell_type": "code",
   "execution_count": 9,
   "metadata": {},
   "outputs": [
    {
     "name": "stdout",
     "output_type": "stream",
     "text": [
      "best cluster number: 9\n"
     ]
    }
   ],
   "source": [
    "from kneed import KneeLocator\n",
    "\n",
    "kl = KneeLocator(range(1, 21), sse, curve=\"convex\", direction=\"decreasing\")\n",
    "print('best cluster number:',kl.elbow)"
   ]
  },
  {
   "cell_type": "code",
   "execution_count": 10,
   "metadata": {},
   "outputs": [],
   "source": [
    "number_of_clusters = 9\n",
    "\n",
    "model = KMeans(n_clusters = number_of_clusters, \n",
    "               init = 'k-means++', \n",
    "               max_iter = 200, \n",
    "               n_init = 10,\n",
    "               random_state=42)\n",
    "\n",
    "model.fit(df_train)\n",
    "\n",
    "order_centroids = model.cluster_centers_.argsort()[:, ::-1]"
   ]
  },
  {
   "cell_type": "code",
   "execution_count": 11,
   "metadata": {},
   "outputs": [
    {
     "name": "stdout",
     "output_type": "stream",
     "text": [
      "Cluster 1:\n",
      "Title: airlin,flight,unit,new,travel,us,roundtrip \n",
      "Keywords: airlines,flight,united,new,trump,flights,american,airline,york,business,google,company,years\n",
      "\n",
      "Cluster 2:\n",
      "Title: delta,airlin,flight,line,nra,air,unit,us \n",
      "Keywords: delta,lines,airlines,air,united,american,nra,flight,southwest,airline,flights,passengers\n",
      "\n",
      "Cluster 3:\n",
      "Title: unit,airlin,flight,passeng,new \n",
      "Keywords: united,airlines,flight,airline,american,flights,passengers,customers,plane,seats,service,states,passenger,chicago,uniteds\n",
      "\n",
      "Cluster 4:\n",
      "Title: air,mesa,group,canada,new,inc,zealand,flight \n",
      "Keywords: air,mesa,canada,group,zealand,airlines,wisconsin,new,india,united,flights,flight\n",
      "\n",
      "Cluster 5:\n",
      "Title: airport,flight,intern,passeng,new,airlin,newark,unit,chicago \n",
      "Keywords: airport,airlines,united,newark,international,chicago,flight,airports,flights,passengers,hare\n",
      "\n",
      "Cluster 6:\n",
      "Title: max,boe,737,ground,crash,jet,airlin,us \n",
      "Keywords: boeing,max,airlines,aircraft,planes,pilots,faa,plane,southwest,jets,united,ethiopian\n",
      "\n",
      "Cluster 7:\n",
      "Title: support,emot,anim,peacock,airlin,flight,woman,unit \n",
      "Keywords: support,animals,airlines,peacock,united,animal,delta,flight,aldecosea,spirit,dexter,woman\n",
      "\n",
      "Cluster 8:\n",
      "Title: dog,die,overhead,bin,unit,flight,airlin,attend,puppi,forc \n",
      "Keywords: united,dog,flight,airlines,bin,attendant,family,houston,kansas,gremminger\n",
      "\n",
      "Cluster 9:\n",
      "Title: card,mile,point,credit,chase,reward,bonus \n",
      "Keywords: miles,chase,card,rewards,credit,points,ultimate,airlines,cards,united,business,bonus,mileageplus\n",
      "\n"
     ]
    }
   ],
   "source": [
    "for i in range(number_of_clusters):\n",
    "    print(\"Cluster %d:\" % (i+1))\n",
    "    list_title = []\n",
    "    list_keywords = []\n",
    "    for ind in order_centroids[i,:20]:        \n",
    "        if ind < 3000:\n",
    "            list_title.append(terms_title[ind])\n",
    "        else:\n",
    "            list_keywords.append(terms_keywords[ind-3000])\n",
    "    print('Title: %s \\nKeywords: %s\\n' % (','.join(list_title),','.join(list_keywords)))"
   ]
  },
  {
   "cell_type": "markdown",
   "metadata": {},
   "source": [
    "# Add sentiment, domain and apply standard scaler"
   ]
  },
  {
   "cell_type": "code",
   "execution_count": null,
   "metadata": {},
   "outputs": [],
   "source": [
    "'''\n",
    "add sentiment and domain value into training dataset and apply standard scaler.\n",
    "'''\n",
    "from sklearn.preprocessing import StandardScaler\n",
    "    \n",
    "X_cluster_scale = np.hstack((ds_cluster.drop(columns=['title','deep_keywords']).values,X_title,X_keywords))\n",
    "df_train_s = pd.DataFrame(X_cluster).fillna(0)\n",
    "\n",
    "scaler = StandardScaler()\n",
    "df_scaled = scaler.fit_transform(df_train_s)\n",
    "\n",
    "kmeans_kwargs = {\n",
    "    \"init\": \"k-means++\",\n",
    "    \"n_init\": 10,\n",
    "    \"max_iter\": 200,\n",
    "    \"random_state\": 42,\n",
    "}\n",
    "\n",
    "sse_scale = []\n",
    "for k in range(1, 21):\n",
    "    kmeans = KMeans(n_clusters=k, **kmeans_kwargs)\n",
    "    kmeans.fit(df_scaled)\n",
    "    sse_scale.append(kmeans.inertia_)"
   ]
  },
  {
   "cell_type": "code",
   "execution_count": 16,
   "metadata": {},
   "outputs": [
    {
     "data": {
      "image/png": "[encoded data removed]",
      "text/plain": [
       "<Figure size 432x288 with 1 Axes>"
      ]
     },
     "metadata": {},
     "output_type": "display_data"
    }
   ],
   "source": [
    "plt.style.use(\"fivethirtyeight\")\n",
    "plt.plot(range(1, 21), sse_scale)\n",
    "plt.xticks(range(1, 21))\n",
    "plt.xlabel(\"Number of Clusters\")\n",
    "plt.ylabel(\"SSE\")\n",
    "plt.show()"
   ]
  },
  {
   "cell_type": "code",
   "execution_count": 30,
   "metadata": {},
   "outputs": [],
   "source": [
    "kl_scale = KneeLocator(range(1, 21), sse, curve=\"convex\", direction=\"decreasing\")\n",
    "number_of_clusters = kl_scale.elbow\n",
    "\n",
    "model_scale = KMeans(n_clusters = number_of_clusters, \n",
    "               init = 'k-means++', \n",
    "               max_iter = 200, \n",
    "               n_init = 10,\n",
    "               random_state=42)\n",
    "\n",
    "model_scale.fit(df_scaled)\n",
    "\n",
    "order_centroids_scale = model_scale.cluster_centers_.argsort()[:, ::-1]"
   ]
  },
  {
   "cell_type": "code",
   "execution_count": 31,
   "metadata": {},
   "outputs": [
    {
     "name": "stdout",
     "output_type": "stream",
     "text": [
      "Cluster 1:\n",
      "Title: carat,headlin,healthi,78710,aerospac,taxi,175,wasnt,nra \n",
      "Keywords: carbon,mendoza,ok,headley,central,announcement,keith,fargo,theresa,edmonton,metro\n",
      "\n",
      "Cluster 2:\n",
      "Title: floor,halifax,todd,spice,strong,teigen,emir,sunday,within,citi,sue,save \n",
      "Keywords: alan,halts,beer,peacock,today,spending,strike,help\n",
      "\n",
      "Cluster 3:\n",
      "Title: navi,ryanair,trap,influenc,contest,interpret,exposur,remot,planet \n",
      "Keywords: nbc,travelers,ryanair,rhapsody,consumer,evidence,sofia,disney,husband,hawthorne,african\n",
      "\n",
      "Cluster 4:\n",
      "Title: lax,poll,dc10,delhi,final,document,destroy,dick \n",
      "Keywords: alaska,delivery,orlando,lawsuit,messenger,deliveries,europe,destination,dell,linda,documents,philadelphia\n",
      "\n",
      "Cluster 5:\n",
      "Title: heart,3x,ithaca,dreamlin,stepbystep,fool,turbul,miami,retali,within,pictur \n",
      "Keywords: value,miami,heart,sense,mph,locker,shelter,crj,december\n",
      "\n",
      "Cluster 6:\n",
      "Title: uniform,network,blunder,upon,transport,seri,materi \n",
      "Keywords: unions,flier,amendment,september,airasia,boards,pascolla,mile,chengdu,airline,matter,south,burnett\n",
      "\n",
      "Cluster 7:\n",
      "Title: young,wasn \n",
      "Keywords: zealand,ft,egypt,proposal,ben,sector,nothing,protocols,young,status,readers,anthony,hand,plan,challenge,note,decision,hawaii\n",
      "\n"
     ]
    }
   ],
   "source": [
    "for i in range(number_of_clusters):\n",
    "    print(\"Cluster %d:\" % (i+1))\n",
    "    list_title = []\n",
    "    list_keywords = []\n",
    "    for ind in order_centroids_scale[i,:20]:        \n",
    "        if 2 < ind < 3003:\n",
    "            list_title.append(terms_title[ind-3])\n",
    "        elif ind>=3003:\n",
    "            list_keywords.append(terms_keywords[ind-3003])\n",
    "        else:\n",
    "            continue\n",
    "    print('Title: %s \\nKeywords: %s\\n' % (','.join(list_title),','.join(list_keywords)))"
   ]
  },
  {
   "cell_type": "markdown",
   "metadata": {},
   "source": [
    "# Classification Result"
   ]
  },
  {
   "cell_type": "code",
   "execution_count": 13,
   "metadata": {},
   "outputs": [
    {
     "data": {
      "text/plain": [
       "0    12840\n",
       "2     4430\n",
       "4     1221\n",
       "8      953\n",
       "5      865\n",
       "1      716\n",
       "3      600\n",
       "7      595\n",
       "6      442\n",
       "Name: cluster, dtype: int64"
      ]
     },
     "execution_count": 13,
     "metadata": {},
     "output_type": "execute_result"
    }
   ],
   "source": [
    "'''\n",
    "The cluster result is better when use title and keywords as training data only.\n",
    "'''\n",
    "cluster_map = pd.DataFrame()\n",
    "cluster_map['data_index'] = df_train.index.values\n",
    "cluster_map['title'] = ds_text['title'].values\n",
    "cluster_map['cluster'] = model.labels_\n",
    "cluster_map['cluster'].value_counts()"
   ]
  },
  {
   "cell_type": "code",
   "execution_count": 15,
   "metadata": {},
   "outputs": [],
   "source": [
    "cluster_map.to_csv('text cluster result.csv')"
   ]
  },
  {
   "cell_type": "code",
   "execution_count": 52,
   "metadata": {},
   "outputs": [
    {
     "data": {
      "text/plain": [
       "5    22427\n",
       "1       77\n",
       "3       57\n",
       "0       40\n",
       "6       29\n",
       "2       23\n",
       "4        9\n",
       "Name: cluster, dtype: int64"
      ]
     },
     "execution_count": 52,
     "metadata": {},
     "output_type": "execute_result"
    }
   ],
   "source": [
    "cluster_map_scale = pd.DataFrame()\n",
    "cluster_map_scale['data_index'] = df_train_s.index.values\n",
    "cluster_map_scale['title'] = ds_text['title'].values\n",
    "cluster_map_scale['cluster'] = model_scale.labels_\n",
    "cluster_map_scale['cluster'].value_counts()"
   ]
  }
 ],
 "metadata": {
  "kernelspec": {
   "display_name": "Python 3",
   "language": "python",
   "name": "python3"
  },
  "language_info": {
   "codemirror_mode": {
    "name": "ipython",
    "version": 3
   },
   "file_extension": ".py",
   "mimetype": "text/x-python",
   "name": "python",
   "nbconvert_exporter": "python",
   "pygments_lexer": "ipython3",
   "version": "3.8.5"
  }
 },
 "nbformat": 4,
 "nbformat_minor": 4
}
