{
 "cells": [
  {
   "cell_type": "code",
   "execution_count": 1,
   "metadata": {},
   "outputs": [
    {
     "ename": "ModuleNotFoundError",
     "evalue": "No module named 'cloud_storage'",
     "output_type": "error",
     "traceback": [
      "\u001b[1;31m---------------------------------------------------------------------------\u001b[0m",
      "\u001b[1;31mModuleNotFoundError\u001b[0m                       Traceback (most recent call last)",
      "\u001b[1;32m<ipython-input-1-e435732d7b51>\u001b[0m in \u001b[0;36m<module>\u001b[1;34m\u001b[0m\n\u001b[0;32m     12\u001b[0m     \u001b[0msys\u001b[0m\u001b[1;33m.\u001b[0m\u001b[0mpath\u001b[0m\u001b[1;33m.\u001b[0m\u001b[0mappend\u001b[0m\u001b[1;33m(\u001b[0m\u001b[0mvariable_path\u001b[0m\u001b[1;33m)\u001b[0m\u001b[1;33m\u001b[0m\u001b[1;33m\u001b[0m\u001b[0m\n\u001b[0;32m     13\u001b[0m \u001b[1;32mimport\u001b[0m \u001b[0mglob\u001b[0m\u001b[1;33m\u001b[0m\u001b[1;33m\u001b[0m\u001b[0m\n\u001b[1;32m---> 14\u001b[1;33m \u001b[1;32mimport\u001b[0m \u001b[0mcloud_storage\u001b[0m\u001b[1;33m\u001b[0m\u001b[1;33m\u001b[0m\u001b[0m\n\u001b[0m\u001b[0;32m     15\u001b[0m \u001b[1;32mimport\u001b[0m \u001b[0mbig_query\u001b[0m\u001b[1;33m\u001b[0m\u001b[1;33m\u001b[0m\u001b[0m\n\u001b[0;32m     16\u001b[0m \u001b[1;32mimport\u001b[0m \u001b[0mhelpers\u001b[0m\u001b[1;33m\u001b[0m\u001b[1;33m\u001b[0m\u001b[0m\n",
      "\u001b[1;31mModuleNotFoundError\u001b[0m: No module named 'cloud_storage'"
     ]
    }
   ],
   "source": [
    "import os\n",
    "import sys\n",
    "import json\n",
    "import time\n",
    "import datetime\n",
    "import random\n",
    "module_path = '../../modules/'\n",
    "variable_path = '../'\n",
    "if module_path not in sys.path:\n",
    "    sys.path.append(module_path)\n",
    "if variable_path not in sys.path:\n",
    "    sys.path.append(variable_path)\n",
    "import glob\n",
    "import cloud_storage\n",
    "import big_query\n",
    "import helpers"
   ]
  },
  {
   "cell_type": "code",
   "execution_count": 20,
   "metadata": {},
   "outputs": [],
   "source": [
    "%run variables.ipynb"
   ]
  },
  {
   "cell_type": "code",
   "execution_count": 3,
   "metadata": {},
   "outputs": [],
   "source": [
    "print('\\n')\n",
    "print(\"-----------------0.3 Testing - variables are imported------------------\")\n",
    "print(dataset_id)\n",
    "print(bucket_name)\n",
    "print(bq_storage_client)\n",
    "print(\"-----------------End: 0.3 Testing - variables are imported------------------\")\n",
    "print('\\n')"
   ]
  },
  {
   "cell_type": "markdown",
   "metadata": {},
   "source": [
    "## Part 2 - Query Data from BQ\n",
    "### 2.1 Query data"
   ]
  },
  {
   "cell_type": "code",
   "execution_count": 14,
   "metadata": {},
   "outputs": [],
   "source": [
    "# Download query results.  619MB\n",
    "query_string = \"\"\"\n",
    "SELECT an, publication_date, snippet, body FROM `dow-jones-pipeline.model_input.dna_articles`\n",
    "\"\"\""
   ]
  },
  {
   "cell_type": "code",
   "execution_count": 16,
   "metadata": {},
   "outputs": [
    {
     "name": "stdout",
     "output_type": "stream",
     "text": [
      "                          an  publication_date  \\\n",
      "0  BHT0000020190215ef2d0000b     1550016000000   \n",
      "1  NFINCE0020200118eg1i0016b     1579305600000   \n",
      "2  SC00000020191018efah00034     1571270400000   \n",
      "3  CTVN000020190204ef220000z     1549065600000   \n",
      "4  LBA0000020190226ef2q00kzl     1551158915000   \n",
      "\n",
      "                                             snippet  \\\n",
      "0  BROOKVILLE - Several drink bottles with punctu...   \n",
      "1  Three were the last people to see the doctor C...   \n",
      "2  Forty million people are trapped in slavery to...   \n",
      "3  Host(s): SANDIE RINALDO\\n\\nSANDIE RINALDO: A m...   \n",
      "4  New England Patriots owner Robert Kraft faces ...   \n",
      "\n",
      "                                                body  \n",
      "0  Public health coordinator Faye Hay received St...  \n",
      "1  -Any news, Doctor? – asked the nurse.\\n\\n\"I co...  \n",
      "2  As we mark Anti-Slavery Day today, here are th...  \n",
      "3                                                     \n",
      "4  Kraft, 77, is alleged to have paid for sex at ...  \n"
     ]
    }
   ],
   "source": [
    "dataframe = (\n",
    "    bq_client.query(query_string)\n",
    "    .result()\n",
    "    .to_dataframe(bqstorage_client=bq_storage_client)\n",
    ")\n",
    "print(dataframe.head())"
   ]
  },
  {
   "cell_type": "code",
   "execution_count": 17,
   "metadata": {},
   "outputs": [
    {
     "data": {
      "text/plain": [
       "(114416, 4)"
      ]
     },
     "execution_count": 17,
     "metadata": {},
     "output_type": "execute_result"
    }
   ],
   "source": [
    "dataframe.shape"
   ]
  },
  {
   "cell_type": "code",
   "execution_count": 19,
   "metadata": {},
   "outputs": [
    {
     "name": "stdout",
     "output_type": "stream",
     "text": [
      "C:\\Users\\E048688\\OneDrive - Daniel J. Edelman Holdings, Inc\\Documents\\GitHub\\Dow-Jones-Pipeline\\articles\\5_article_category\\data\\input//5_article_category_input.json\n",
      "Input data saved in C:\\Users\\E048688\\OneDrive - Daniel J. Edelman Holdings, Inc\\Documents\\GitHub\\Dow-Jones-Pipeline\\articles\\5_article_category\\data\\input\n",
      "-----------------End: 2.1 Query data------------------\n",
      "\n",
      "\n"
     ]
    }
   ],
   "source": [
    "output_dir =\"{}//{}_{}_input.json\".format(local_input_dir, config[\"id\"], table_name)\n",
    "print(output_dir)\n",
    "dataframe.to_json(output_dir,orient='records')\n",
    "print(\"Input data saved in {}\".format(local_input_dir))\n",
    "print(\"-----------------End: 2.1 Query data------------------\")\n",
    "print('\\n')"
   ]
  },
  {
   "cell_type": "code",
   "execution_count": null,
   "metadata": {},
   "outputs": [],
   "source": []
  }
 ],
 "metadata": {
  "hide_input": false,
  "kernelspec": {
   "display_name": "Python 3",
   "language": "python",
   "name": "python3"
  },
  "language_info": {
   "codemirror_mode": {
    "name": "ipython",
    "version": 3
   },
   "file_extension": ".py",
   "mimetype": "text/x-python",
   "name": "python",
   "nbconvert_exporter": "python",
   "pygments_lexer": "ipython3",
   "version": "3.7.7"
  },
  "toc": {
   "base_numbering": 1,
   "nav_menu": {},
   "number_sections": true,
   "sideBar": true,
   "skip_h1_title": false,
   "title_cell": "Table of Contents",
   "title_sidebar": "Contents",
   "toc_cell": false,
   "toc_position": {},
   "toc_section_display": true,
   "toc_window_display": false
  },
  "varInspector": {
   "cols": {
    "lenName": 16,
    "lenType": 16,
    "lenVar": 40
   },
   "kernels_config": {
    "python": {
     "delete_cmd_postfix": "",
     "delete_cmd_prefix": "del ",
     "library": "var_list.py",
     "varRefreshCmd": "print(var_dic_list())"
    },
    "r": {
     "delete_cmd_postfix": ") ",
     "delete_cmd_prefix": "rm(",
     "library": "var_list.r",
     "varRefreshCmd": "cat(var_dic_list()) "
    }
   },
   "types_to_exclude": [
    "module",
    "function",
    "builtin_function_or_method",
    "instance",
    "_Feature"
   ],
   "window_display": false
  }
 },
 "nbformat": 4,
 "nbformat_minor": 4
}
